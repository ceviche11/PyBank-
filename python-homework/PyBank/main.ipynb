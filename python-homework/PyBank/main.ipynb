{
 "cells": [
  {
   "cell_type": "code",
   "execution_count": 388,
   "id": "9fa174a8-5838-4f10-8100-4c4ba47948f6",
   "metadata": {},
   "outputs": [],
   "source": [
    "from pathlib import Path"
   ]
  },
  {
   "cell_type": "code",
   "execution_count": 389,
   "id": "a7cf1f8b-77e4-425f-822f-a4b0c0c0707a",
   "metadata": {},
   "outputs": [],
   "source": [
    "import csv"
   ]
  },
  {
   "cell_type": "code",
   "execution_count": 390,
   "id": "4323ea6c-8742-483a-8b5b-7bd5bb45eb81",
   "metadata": {},
   "outputs": [],
   "source": [
    "file = open('budget_data.csv')"
   ]
  },
  {
   "cell_type": "code",
   "execution_count": 391,
   "id": "f488373f-0a5d-46b2-8add-fb3e01bd206b",
   "metadata": {},
   "outputs": [],
   "source": [
    "file = open('budget_data.csv')"
   ]
  },
  {
   "cell_type": "code",
   "execution_count": 392,
   "id": "ea89476b-17b2-46a2-8c08-72f5411d7595",
   "metadata": {},
   "outputs": [
    {
     "data": {
      "text/plain": [
       "_io.TextIOWrapper"
      ]
     },
     "execution_count": 392,
     "metadata": {},
     "output_type": "execute_result"
    }
   ],
   "source": [
    "type(file)"
   ]
  },
  {
   "cell_type": "code",
   "execution_count": 393,
   "id": "7f5d70f3-d610-4868-b1b9-9c0c00f15cb9",
   "metadata": {},
   "outputs": [],
   "source": [
    "csvreader = csv.reader(file)"
   ]
  },
  {
   "cell_type": "code",
   "execution_count": 394,
   "id": "2a35f5e8-bd84-4cb8-a610-6ebc4826a1f7",
   "metadata": {},
   "outputs": [],
   "source": [
    "rows = []"
   ]
  },
  {
   "cell_type": "code",
   "execution_count": 395,
   "id": "e96e311b-9d1e-400e-88e1-848ef69a7db5",
   "metadata": {},
   "outputs": [],
   "source": [
    "for row in csvreader:\n",
    "    rows.append(row)"
   ]
  },
  {
   "cell_type": "code",
   "execution_count": null,
   "id": "1d7d4adf-3d9c-4e87-860e-c2a5945d60c9",
   "metadata": {},
   "outputs": [],
   "source": []
  },
  {
   "cell_type": "code",
   "execution_count": 396,
   "id": "ba2e8718-f6e9-431d-8e0a-295fee68ac4d",
   "metadata": {},
   "outputs": [],
   "source": [
    "count = 0"
   ]
  },
  {
   "cell_type": "code",
   "execution_count": 397,
   "id": "78a7e7b7-db54-4f34-9259-67e9690a1e7a",
   "metadata": {},
   "outputs": [],
   "source": [
    "average = 0"
   ]
  },
  {
   "cell_type": "code",
   "execution_count": 398,
   "id": "e69f9a23-2d1f-4ce7-87f5-f99716f074b9",
   "metadata": {},
   "outputs": [],
   "source": [
    "total = 0"
   ]
  },
  {
   "cell_type": "code",
   "execution_count": 399,
   "id": "e173ae3a-bfaa-4ff8-bbd1-c5c86b552198",
   "metadata": {},
   "outputs": [],
   "source": [
    "maximum = 0"
   ]
  },
  {
   "cell_type": "code",
   "execution_count": 400,
   "id": "51698f0c-119b-449d-ae49-8dcf74d539c1",
   "metadata": {},
   "outputs": [],
   "source": [
    "minimum = 0"
   ]
  },
  {
   "cell_type": "code",
   "execution_count": 401,
   "id": "9599cf27-1722-4826-87c6-df9659c17c9c",
   "metadata": {},
   "outputs": [],
   "source": [
    "rows.remove(['Date', 'Profit/Losses'])"
   ]
  },
  {
   "cell_type": "code",
   "execution_count": 402,
   "id": "a2b7fd56-ec0a-4e74-b195-6f2aef78ba77",
   "metadata": {},
   "outputs": [
    {
     "data": {
      "text/plain": [
       "86"
      ]
     },
     "execution_count": 402,
     "metadata": {},
     "output_type": "execute_result"
    }
   ],
   "source": [
    "len(rows)"
   ]
  },
  {
   "cell_type": "code",
   "execution_count": 403,
   "id": "ab8d7d01-0bbd-4722-a18d-c5b9bcf17edc",
   "metadata": {},
   "outputs": [],
   "source": [
    "count=86"
   ]
  },
  {
   "cell_type": "code",
   "execution_count": 404,
   "id": "4c498594-fd1b-45d2-ab5f-a9f39819aa23",
   "metadata": {},
   "outputs": [],
   "source": [
    "total=0\n",
    "\n",
    "for q in rows:\n",
    "    total = total + int(q[1])\n",
    "\n"
   ]
  },
  {
   "cell_type": "code",
   "execution_count": 405,
   "id": "879babbd-478f-4b51-9e77-fcf65b5c0aac",
   "metadata": {},
   "outputs": [
    {
     "data": {
      "text/plain": [
       "38382578"
      ]
     },
     "execution_count": 405,
     "metadata": {},
     "output_type": "execute_result"
    }
   ],
   "source": [
    "total"
   ]
  },
  {
   "cell_type": "code",
   "execution_count": 406,
   "id": "c673d2bd-32c4-46f8-b1ad-6b6675e2d068",
   "metadata": {},
   "outputs": [],
   "source": [
    "average = round(total/count,2)\n",
    "    "
   ]
  },
  {
   "cell_type": "code",
   "execution_count": 407,
   "id": "32484029-37db-4a8f-bd77-ec76df86869a",
   "metadata": {},
   "outputs": [
    {
     "data": {
      "text/plain": [
       "446309.05"
      ]
     },
     "execution_count": 407,
     "metadata": {},
     "output_type": "execute_result"
    }
   ],
   "source": [
    "average"
   ]
  },
  {
   "cell_type": "code",
   "execution_count": 408,
   "id": "515cd90e-0a39-4e6c-90e5-8df1399b3125",
   "metadata": {},
   "outputs": [],
   "source": [
    "for q in rows:\n",
    "    if int(q[1]) < minimum:\n",
    "        minimum = int(q[1])  \n",
    "    elif int(q[1]) > maximum: \n",
    "        maximum = int(q[1])"
   ]
  },
  {
   "cell_type": "code",
   "execution_count": 409,
   "id": "211bd76e-7dfa-4c08-b8dd-2f258d2e903a",
   "metadata": {},
   "outputs": [
    {
     "data": {
      "text/plain": [
       "-1196225"
      ]
     },
     "execution_count": 409,
     "metadata": {},
     "output_type": "execute_result"
    }
   ],
   "source": [
    "minimum"
   ]
  },
  {
   "cell_type": "code",
   "execution_count": 410,
   "id": "c90c053a-3282-437b-a1ad-b5510a23bc2c",
   "metadata": {},
   "outputs": [
    {
     "data": {
      "text/plain": [
       "1170593"
      ]
     },
     "execution_count": 410,
     "metadata": {},
     "output_type": "execute_result"
    }
   ],
   "source": [
    "maximum"
   ]
  },
  {
   "cell_type": "code",
   "execution_count": 411,
   "id": "ac85e16c-e09f-490e-99bf-b7e035624465",
   "metadata": {},
   "outputs": [
    {
     "name": "stdout",
     "output_type": "stream",
     "text": [
      "Financial Analysis\n"
     ]
    }
   ],
   "source": [
    "print(\"Financial Analysis\")"
   ]
  },
  {
   "cell_type": "code",
   "execution_count": 412,
   "id": "635ea230-19ac-4bf4-960f-7619ddde5fd7",
   "metadata": {},
   "outputs": [
    {
     "name": "stdout",
     "output_type": "stream",
     "text": [
      "-----------------\n"
     ]
    }
   ],
   "source": [
    "print(\"-----------------\")"
   ]
  },
  {
   "cell_type": "code",
   "execution_count": 413,
   "id": "a8543482-906a-4226-8e5a-026d09d811e8",
   "metadata": {},
   "outputs": [
    {
     "name": "stdout",
     "output_type": "stream",
     "text": [
      "Total Months: 86\n"
     ]
    }
   ],
   "source": [
    "print(f\"Total Months: {count}\")"
   ]
  },
  {
   "cell_type": "code",
   "execution_count": 414,
   "id": "8a78bccd-9f4a-49b9-bcfe-81e43d99337e",
   "metadata": {},
   "outputs": [
    {
     "name": "stdout",
     "output_type": "stream",
     "text": [
      "Total: $38382578\n"
     ]
    }
   ],
   "source": [
    "print(f\"Total: ${total}\")"
   ]
  },
  {
   "cell_type": "code",
   "execution_count": 415,
   "id": "d8f1d937-52b6-4e33-9596-6ae5556751eb",
   "metadata": {},
   "outputs": [
    {
     "name": "stdout",
     "output_type": "stream",
     "text": [
      "Average Change: $446309.05\n"
     ]
    }
   ],
   "source": [
    "print(f\"Average Change: ${average}\")"
   ]
  },
  {
   "cell_type": "code",
   "execution_count": 416,
   "id": "bb638127-79e3-4a21-af87-ecd46a47b7f7",
   "metadata": {},
   "outputs": [
    {
     "name": "stdout",
     "output_type": "stream",
     "text": [
      "Greatest Increase in Profits: $1170593\n"
     ]
    }
   ],
   "source": [
    "print(f\"Greatest Increase in Profits: ${maximum}\") "
   ]
  },
  {
   "cell_type": "code",
   "execution_count": 419,
   "id": "699626d7-4a30-4f95-ad88-5422fe6bc595",
   "metadata": {},
   "outputs": [
    {
     "name": "stdout",
     "output_type": "stream",
     "text": [
      "Greatest Decrease in Profits: $-1196225\n"
     ]
    }
   ],
   "source": [
    "print(f\"Greatest Decrease in Profits: ${minimum}\")"
   ]
  },
  {
   "cell_type": "code",
   "execution_count": null,
   "id": "8be6c146-a843-4586-9dc3-63d45a1a0bcd",
   "metadata": {},
   "outputs": [],
   "source": []
  }
 ],
 "metadata": {
  "kernelspec": {
   "display_name": "Python 3 (ipykernel)",
   "language": "python",
   "name": "python3"
  },
  "language_info": {
   "codemirror_mode": {
    "name": "ipython",
    "version": 3
   },
   "file_extension": ".py",
   "mimetype": "text/x-python",
   "name": "python",
   "nbconvert_exporter": "python",
   "pygments_lexer": "ipython3",
   "version": "3.8.8"
  }
 },
 "nbformat": 4,
 "nbformat_minor": 5
}
